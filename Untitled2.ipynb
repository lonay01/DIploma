{
  "cells": [
    {
      "cell_type": "markdown",
      "metadata": {
        "id": "view-in-github",
        "colab_type": "text"
      },
      "source": [
        "<a href=\"https://colab.research.google.com/github/lonay01/DIploma/blob/main/Untitled2.ipynb\" target=\"_parent\"><img src=\"https://colab.research.google.com/assets/colab-badge.svg\" alt=\"Open In Colab\"/></a>"
      ]
    },
    {
      "cell_type": "code",
      "execution_count": null,
      "metadata": {
        "id": "29U5eR-0xHPL"
      },
      "outputs": [],
      "source": [
        "from scipy import signal\n",
        "from scipy import misc\n",
        "import numpy as np\n",
        "import matplotlib.pyplot as mtb\n",
        "import numpy, scipy.sparse\n",
        "\n",
        "\n",
        "from PIL import Image\n",
        "\n",
        "im = Image.open('/content/The-famous-Lena-image-often-used-as-an-example-in-image-processing.png')\n",
        "RGB = im.convert('L')\n",
        "С = np.array(RGB)\n",
        "\n",
        "P_r = np.random.normal(0, 1, size=(512, 512))\n",
        "\n",
        "shift = np.roll(P_r, 501, axis=0)\n",
        "shift = np.roll(P_r, 501, axis=1)\n",
        "\n",
        "\n",
        "W_r = P_r - shift\n",
        "\n",
        "g = np.array([[0,1,0],[1,-4,1],[0,1,0]])\n",
        "\n",
        "betta = signal.convolve2d(С[:,:],g, mode = 'full')\n",
        "\n",
        "\n",
        "for i in range(512):\n",
        "  for j in range(512):\n",
        "    С[i,j]  += betta[i,j]*W_r[i%512,j%512]\n",
        "\n",
        "\n",
        "img1 = Image.fromarray(С)\n",
        "img1 = img1.convert('L')\n",
        "img1.save('С.png')\n"
      ]
    },
    {
      "cell_type": "code",
      "execution_count": null,
      "metadata": {
        "colab": {
          "base_uri": "https://localhost:8080/"
        },
        "id": "xplIZPbYujXa",
        "outputId": "9c4d7562-c564-4f84-f97b-0707b226a3b7"
      },
      "outputs": [
        {
          "output_type": "stream",
          "name": "stdout",
          "text": [
            "(0, 0) (0, 501)\n"
          ]
        }
      ],
      "source": [
        "im1 = Image.open('/content/С.png')\n",
        "width, height = im.size\n",
        "\n",
        "RGB1 = im1.convert('L')\n",
        "array1 = np.array(RGB1)\n",
        "\n",
        "w = np.random.normal(0, 1, size=(512, 512))\n",
        "for m1 in range(512):\n",
        "    for m2 in range(512):\n",
        "      for i in range(512//512):\n",
        "        for j in range(512//512):\n",
        "          w[m1,m2] = array1[i*512+m1,j*512+m2]\n",
        "          \n",
        "bbb = np.fft.ifft2(np.fft.fft2(W_r)*np.conj(np.fft.fft2(P_r)))\n",
        "print(np.unravel_index(np.argmax(bbb, axis=None), bbb.shape) , np.unravel_index(np.argmin(bbb, axis=None), bbb.shape))\n"
      ]
    },
    {
      "cell_type": "code",
      "source": [
        "P_r = np.random.normal(0, 1, size=(300, 300))\n",
        "g = np.array([[0,1,0],[1,-4,1],[0,1,0]])\n",
        "shift = np.roll(P_r, 85, axis=0)\n",
        "shift = np.roll(P_r, 85, axis=1)\n",
        "W_r = P_r - shift\n",
        "L = np.array([[-1,-1,-1],[-1,8,-1],[-1,-1,-1]])\n",
        "lam = L/9"
      ],
      "metadata": {
        "id": "RVgTBR7awJVM"
      },
      "execution_count": null,
      "outputs": []
    },
    {
      "cell_type": "code",
      "source": [
        "import cv2\n",
        "import os\n",
        "\n",
        "def video_to_frames_with_stego(video, path_output_dir,num):\n",
        "    # extract frames from a video and save to directory as 'x.png' where \n",
        "    # x is the frame index\n",
        "    vidcap = cv2.VideoCapture(video)\n",
        "    count = 0\n",
        "    \n",
        "    while vidcap.isOpened():\n",
        "        success, image = vidcap.read()\n",
        "        if success:\n",
        "            gray = cv2.cvtColor(image, cv2.COLOR_BGR2GRAY)\n",
        "            betta = signal.convolve2d(gray[:,:],g, mode = 'full')\n",
        "            PicConv = signal.convolve2d(gray, lam, 'full')\n",
        "\n",
        "            for i in range(300):\n",
        "              for j in range(300):\n",
        "                gray[i,j]  += 0.02*PicConv[i,j]*betta[i,j]*W_r[i%300,j%300]\n",
        "            cv2.imwrite(os.path.join(path_output_dir, '%d.png') % count, gray)\n",
        "            count += 1\n",
        "            print(count)\n",
        "        else:\n",
        "            break\n",
        "    cv2.destroyAllWindows()\n",
        "    vidcap.release()\n",
        "\n",
        "video_to_frames_with_stego('/content/vid.mp4', '/content/img',45)"
      ],
      "metadata": {
        "id": "HRI4C6x9tlQV",
        "colab": {
          "base_uri": "https://localhost:8080/"
        },
        "outputId": "ad6c1feb-81cc-49d5-b323-95574aecc493"
      },
      "execution_count": null,
      "outputs": [
        {
          "output_type": "stream",
          "name": "stdout",
          "text": [
            "1\n",
            "2\n",
            "3\n",
            "4\n",
            "5\n",
            "6\n",
            "7\n",
            "8\n",
            "9\n",
            "10\n",
            "11\n",
            "12\n",
            "13\n",
            "14\n",
            "15\n",
            "16\n",
            "17\n",
            "18\n",
            "19\n",
            "20\n",
            "21\n",
            "22\n",
            "23\n",
            "24\n",
            "25\n",
            "26\n",
            "27\n",
            "28\n",
            "29\n",
            "30\n",
            "31\n",
            "32\n",
            "33\n",
            "34\n",
            "35\n",
            "36\n",
            "37\n",
            "38\n",
            "39\n",
            "40\n",
            "41\n",
            "42\n",
            "43\n",
            "44\n",
            "45\n",
            "46\n",
            "47\n",
            "48\n",
            "49\n",
            "50\n",
            "51\n",
            "52\n",
            "53\n",
            "54\n",
            "55\n",
            "56\n",
            "57\n",
            "58\n",
            "59\n",
            "60\n",
            "61\n",
            "62\n",
            "63\n",
            "64\n",
            "65\n",
            "66\n",
            "67\n",
            "68\n",
            "69\n",
            "70\n",
            "71\n",
            "72\n",
            "73\n",
            "74\n",
            "75\n",
            "76\n",
            "77\n",
            "78\n",
            "79\n",
            "80\n",
            "81\n",
            "82\n",
            "83\n",
            "84\n",
            "85\n",
            "86\n",
            "87\n",
            "88\n",
            "89\n",
            "90\n",
            "91\n",
            "92\n",
            "93\n",
            "94\n",
            "95\n",
            "96\n",
            "97\n",
            "98\n",
            "99\n",
            "100\n",
            "101\n",
            "102\n",
            "103\n",
            "104\n",
            "105\n",
            "106\n",
            "107\n",
            "108\n",
            "109\n",
            "110\n",
            "111\n",
            "112\n",
            "113\n",
            "114\n",
            "115\n",
            "116\n",
            "117\n",
            "118\n",
            "119\n",
            "120\n",
            "121\n",
            "122\n",
            "123\n",
            "124\n",
            "125\n",
            "126\n",
            "127\n",
            "128\n",
            "129\n",
            "130\n",
            "131\n",
            "132\n",
            "133\n",
            "134\n",
            "135\n"
          ]
        }
      ]
    },
    {
      "cell_type": "code",
      "source": [
        "w = np.random.normal(0, 1, size=(300, 300))\n",
        "for i in range(1):\n",
        "  s = '/content/img/' + str(i) + '.png'\n",
        "  print(s)\n",
        "  im1 = Image.open(s)\n",
        "  \n",
        "\n",
        "  RGB1 = im1.convert('L')\n",
        "  array1 = np.array(RGB1)\n",
        "\n",
        "  for m1 in range(300):\n",
        "      for m2 in range(300):\n",
        "        for i in range(300//300):\n",
        "          for j in range(300//300):\n",
        "            w[m1,m2] += array1[m1,m2]\n",
        "            \n",
        "bbb = np.fft.ifft2(np.fft.fft2(w)*np.conj(np.fft.fft2(P_r)))\n",
        "print(np.unravel_index(np.argmax(bbb, axis=None), bbb.shape) , np.unravel_index(np.argmin(bbb, axis=None), bbb.shape))\n"
      ],
      "metadata": {
        "colab": {
          "base_uri": "https://localhost:8080/"
        },
        "id": "i0ZrTl9rswqs",
        "outputId": "06ab6d44-63dd-405a-ebcc-607a37bf82b4"
      },
      "execution_count": 123,
      "outputs": [
        {
          "output_type": "stream",
          "name": "stdout",
          "text": [
            "/content/img/0.png\n",
            "(266, 282) (200, 131)\n"
          ]
        }
      ]
    },
    {
      "cell_type": "code",
      "source": [
        "\n",
        "# -*- coding: utf-8 -*- #задаем кодировку скрипта\n",
        "import cv2, os #подключаем нужные модули\n",
        "\n",
        "out = cv2.VideoWriter(\"video.avi\", cv2.VideoWriter_fourcc('M','J','P','G'), 24.0, (300, 300)) #создаем видео\n",
        "for i in range(134):\n",
        "  s = '/content/img/' + str(i) + '.png'\n",
        "  out.write(cv2.imread(s))\n",
        "out.release() #генерируем\n",
        "cv2.destroyAllWindows() #завершаем\n"
      ],
      "metadata": {
        "id": "sy7OjoUtxgos"
      },
      "execution_count": 119,
      "outputs": []
    }
  ],
  "metadata": {
    "colab": {
      "provenance": [],
      "authorship_tag": "ABX9TyPeiesGGjUrdM6PE4olLS46",
      "include_colab_link": true
    },
    "kernelspec": {
      "display_name": "Python 3",
      "name": "python3"
    },
    "language_info": {
      "name": "python"
    }
  },
  "nbformat": 4,
  "nbformat_minor": 0
}