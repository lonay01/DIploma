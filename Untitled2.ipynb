{
  "cells": [
    {
      "cell_type": "markdown",
      "metadata": {
        "id": "view-in-github",
        "colab_type": "text"
      },
      "source": [
        "<a href=\"https://colab.research.google.com/github/lonay01/DIploma/blob/main/Untitled2.ipynb\" target=\"_parent\"><img src=\"https://colab.research.google.com/assets/colab-badge.svg\" alt=\"Open In Colab\"/></a>"
      ]
    },
    {
      "cell_type": "code",
      "execution_count": 2,
      "metadata": {
        "id": "29U5eR-0xHPL",
        "colab": {
          "base_uri": "https://localhost:8080/",
          "height": 294
        },
        "outputId": "18a81a28-2be6-4c72-efd1-97fbd62810e4"
      },
      "outputs": [
        {
          "output_type": "error",
          "ename": "KeyboardInterrupt",
          "evalue": "ignored",
          "traceback": [
            "\u001b[0;31m---------------------------------------------------------------------------\u001b[0m",
            "\u001b[0;31mKeyboardInterrupt\u001b[0m                         Traceback (most recent call last)",
            "\u001b[0;32m<ipython-input-2-34f3e1d4a163>\u001b[0m in \u001b[0;36m<cell line: 1>\u001b[0;34m()\u001b[0m\n\u001b[0;32m----> 1\u001b[0;31m \u001b[0;32mfrom\u001b[0m \u001b[0mscipy\u001b[0m \u001b[0;32mimport\u001b[0m \u001b[0msignal\u001b[0m\u001b[0;34m\u001b[0m\u001b[0;34m\u001b[0m\u001b[0m\n\u001b[0m\u001b[1;32m      2\u001b[0m \u001b[0;32mfrom\u001b[0m \u001b[0mscipy\u001b[0m \u001b[0;32mimport\u001b[0m \u001b[0mmisc\u001b[0m\u001b[0;34m\u001b[0m\u001b[0;34m\u001b[0m\u001b[0m\n\u001b[1;32m      3\u001b[0m \u001b[0;32mimport\u001b[0m \u001b[0mnumpy\u001b[0m \u001b[0;32mas\u001b[0m \u001b[0mnp\u001b[0m\u001b[0;34m\u001b[0m\u001b[0;34m\u001b[0m\u001b[0m\n\u001b[1;32m      4\u001b[0m \u001b[0;32mimport\u001b[0m \u001b[0mmatplotlib\u001b[0m\u001b[0;34m.\u001b[0m\u001b[0mpyplot\u001b[0m \u001b[0;32mas\u001b[0m \u001b[0mmtb\u001b[0m\u001b[0;34m\u001b[0m\u001b[0;34m\u001b[0m\u001b[0m\n\u001b[1;32m      5\u001b[0m \u001b[0;32mimport\u001b[0m \u001b[0mnumpy\u001b[0m\u001b[0;34m,\u001b[0m \u001b[0mscipy\u001b[0m\u001b[0;34m.\u001b[0m\u001b[0msparse\u001b[0m\u001b[0;34m\u001b[0m\u001b[0;34m\u001b[0m\u001b[0m\n",
            "\u001b[0;32m/usr/lib/python3.9/importlib/_bootstrap.py\u001b[0m in \u001b[0;36m_handle_fromlist\u001b[0;34m(module, fromlist, import_, recursive)\u001b[0m\n",
            "\u001b[0;32m/usr/local/lib/python3.9/dist-packages/scipy/__init__.py\u001b[0m in \u001b[0;36m__getattr__\u001b[0;34m(name)\u001b[0m\n\u001b[1;32m    198\u001b[0m     \u001b[0;32mdef\u001b[0m \u001b[0m__getattr__\u001b[0m\u001b[0;34m(\u001b[0m\u001b[0mname\u001b[0m\u001b[0;34m)\u001b[0m\u001b[0;34m:\u001b[0m\u001b[0;34m\u001b[0m\u001b[0;34m\u001b[0m\u001b[0m\n\u001b[1;32m    199\u001b[0m         \u001b[0;32mif\u001b[0m \u001b[0mname\u001b[0m \u001b[0;32min\u001b[0m \u001b[0msubmodules\u001b[0m\u001b[0;34m:\u001b[0m\u001b[0;34m\u001b[0m\u001b[0;34m\u001b[0m\u001b[0m\n\u001b[0;32m--> 200\u001b[0;31m             \u001b[0;32mreturn\u001b[0m \u001b[0m_importlib\u001b[0m\u001b[0;34m.\u001b[0m\u001b[0mimport_module\u001b[0m\u001b[0;34m(\u001b[0m\u001b[0;34mf'scipy.{name}'\u001b[0m\u001b[0;34m)\u001b[0m\u001b[0;34m\u001b[0m\u001b[0;34m\u001b[0m\u001b[0m\n\u001b[0m\u001b[1;32m    201\u001b[0m         \u001b[0;32melse\u001b[0m\u001b[0;34m:\u001b[0m\u001b[0;34m\u001b[0m\u001b[0;34m\u001b[0m\u001b[0m\n\u001b[1;32m    202\u001b[0m             \u001b[0;32mtry\u001b[0m\u001b[0;34m:\u001b[0m\u001b[0;34m\u001b[0m\u001b[0;34m\u001b[0m\u001b[0m\n",
            "\u001b[0;32m/usr/lib/python3.9/importlib/__init__.py\u001b[0m in \u001b[0;36mimport_module\u001b[0;34m(name, package)\u001b[0m\n\u001b[1;32m    125\u001b[0m                 \u001b[0;32mbreak\u001b[0m\u001b[0;34m\u001b[0m\u001b[0;34m\u001b[0m\u001b[0m\n\u001b[1;32m    126\u001b[0m             \u001b[0mlevel\u001b[0m \u001b[0;34m+=\u001b[0m \u001b[0;36m1\u001b[0m\u001b[0;34m\u001b[0m\u001b[0;34m\u001b[0m\u001b[0m\n\u001b[0;32m--> 127\u001b[0;31m     \u001b[0;32mreturn\u001b[0m \u001b[0m_bootstrap\u001b[0m\u001b[0;34m.\u001b[0m\u001b[0m_gcd_import\u001b[0m\u001b[0;34m(\u001b[0m\u001b[0mname\u001b[0m\u001b[0;34m[\u001b[0m\u001b[0mlevel\u001b[0m\u001b[0;34m:\u001b[0m\u001b[0;34m]\u001b[0m\u001b[0;34m,\u001b[0m \u001b[0mpackage\u001b[0m\u001b[0;34m,\u001b[0m \u001b[0mlevel\u001b[0m\u001b[0;34m)\u001b[0m\u001b[0;34m\u001b[0m\u001b[0;34m\u001b[0m\u001b[0m\n\u001b[0m\u001b[1;32m    128\u001b[0m \u001b[0;34m\u001b[0m\u001b[0m\n\u001b[1;32m    129\u001b[0m \u001b[0;34m\u001b[0m\u001b[0m\n",
            "\u001b[0;32m/usr/local/lib/python3.9/dist-packages/scipy/signal/__init__.py\u001b[0m in \u001b[0;36m<module>\u001b[0;34m\u001b[0m\n\u001b[1;32m    323\u001b[0m \u001b[0;32mfrom\u001b[0m \u001b[0;34m.\u001b[0m\u001b[0m_filter_design\u001b[0m \u001b[0;32mimport\u001b[0m \u001b[0;34m*\u001b[0m\u001b[0;34m\u001b[0m\u001b[0;34m\u001b[0m\u001b[0m\n\u001b[1;32m    324\u001b[0m \u001b[0;32mfrom\u001b[0m \u001b[0;34m.\u001b[0m\u001b[0m_fir_filter_design\u001b[0m \u001b[0;32mimport\u001b[0m \u001b[0;34m*\u001b[0m\u001b[0;34m\u001b[0m\u001b[0;34m\u001b[0m\u001b[0m\n\u001b[0;32m--> 325\u001b[0;31m \u001b[0;32mfrom\u001b[0m \u001b[0;34m.\u001b[0m\u001b[0m_ltisys\u001b[0m \u001b[0;32mimport\u001b[0m \u001b[0;34m*\u001b[0m\u001b[0;34m\u001b[0m\u001b[0;34m\u001b[0m\u001b[0m\n\u001b[0m\u001b[1;32m    326\u001b[0m \u001b[0;32mfrom\u001b[0m \u001b[0;34m.\u001b[0m\u001b[0m_lti_conversion\u001b[0m \u001b[0;32mimport\u001b[0m \u001b[0;34m*\u001b[0m\u001b[0;34m\u001b[0m\u001b[0;34m\u001b[0m\u001b[0m\n\u001b[1;32m    327\u001b[0m \u001b[0;32mfrom\u001b[0m \u001b[0;34m.\u001b[0m\u001b[0m_signaltools\u001b[0m \u001b[0;32mimport\u001b[0m \u001b[0;34m*\u001b[0m\u001b[0;34m\u001b[0m\u001b[0;34m\u001b[0m\u001b[0m\n",
            "\u001b[0;32m/usr/local/lib/python3.9/dist-packages/scipy/signal/_ltisys.py\u001b[0m in \u001b[0;36m<module>\u001b[0;34m\u001b[0m\n\u001b[1;32m     26\u001b[0m \u001b[0;34m\u001b[0m\u001b[0m\n\u001b[1;32m     27\u001b[0m \u001b[0;32mfrom\u001b[0m \u001b[0mscipy\u001b[0m\u001b[0;34m.\u001b[0m\u001b[0mlinalg\u001b[0m \u001b[0;32mimport\u001b[0m \u001b[0mqr\u001b[0m \u001b[0;32mas\u001b[0m \u001b[0ms_qr\u001b[0m\u001b[0;34m\u001b[0m\u001b[0;34m\u001b[0m\u001b[0m\n\u001b[0;32m---> 28\u001b[0;31m \u001b[0;32mfrom\u001b[0m \u001b[0mscipy\u001b[0m \u001b[0;32mimport\u001b[0m \u001b[0mintegrate\u001b[0m\u001b[0;34m,\u001b[0m \u001b[0minterpolate\u001b[0m\u001b[0;34m,\u001b[0m \u001b[0mlinalg\u001b[0m\u001b[0;34m\u001b[0m\u001b[0;34m\u001b[0m\u001b[0m\n\u001b[0m\u001b[1;32m     29\u001b[0m \u001b[0;32mfrom\u001b[0m \u001b[0mscipy\u001b[0m\u001b[0;34m.\u001b[0m\u001b[0minterpolate\u001b[0m \u001b[0;32mimport\u001b[0m \u001b[0minterp1d\u001b[0m\u001b[0;34m\u001b[0m\u001b[0;34m\u001b[0m\u001b[0m\n\u001b[1;32m     30\u001b[0m from ._filter_design import (tf2zpk, zpk2tf, normalize, freqs, freqz, freqs_zpk,\n",
            "\u001b[0;32m/usr/lib/python3.9/importlib/_bootstrap.py\u001b[0m in \u001b[0;36m_handle_fromlist\u001b[0;34m(module, fromlist, import_, recursive)\u001b[0m\n",
            "\u001b[0;32m/usr/local/lib/python3.9/dist-packages/scipy/__init__.py\u001b[0m in \u001b[0;36m__getattr__\u001b[0;34m(name)\u001b[0m\n\u001b[1;32m    198\u001b[0m     \u001b[0;32mdef\u001b[0m \u001b[0m__getattr__\u001b[0m\u001b[0;34m(\u001b[0m\u001b[0mname\u001b[0m\u001b[0;34m)\u001b[0m\u001b[0;34m:\u001b[0m\u001b[0;34m\u001b[0m\u001b[0;34m\u001b[0m\u001b[0m\n\u001b[1;32m    199\u001b[0m         \u001b[0;32mif\u001b[0m \u001b[0mname\u001b[0m \u001b[0;32min\u001b[0m \u001b[0msubmodules\u001b[0m\u001b[0;34m:\u001b[0m\u001b[0;34m\u001b[0m\u001b[0;34m\u001b[0m\u001b[0m\n\u001b[0;32m--> 200\u001b[0;31m             \u001b[0;32mreturn\u001b[0m \u001b[0m_importlib\u001b[0m\u001b[0;34m.\u001b[0m\u001b[0mimport_module\u001b[0m\u001b[0;34m(\u001b[0m\u001b[0;34mf'scipy.{name}'\u001b[0m\u001b[0;34m)\u001b[0m\u001b[0;34m\u001b[0m\u001b[0;34m\u001b[0m\u001b[0m\n\u001b[0m\u001b[1;32m    201\u001b[0m         \u001b[0;32melse\u001b[0m\u001b[0;34m:\u001b[0m\u001b[0;34m\u001b[0m\u001b[0;34m\u001b[0m\u001b[0m\n\u001b[1;32m    202\u001b[0m             \u001b[0;32mtry\u001b[0m\u001b[0;34m:\u001b[0m\u001b[0;34m\u001b[0m\u001b[0;34m\u001b[0m\u001b[0m\n",
            "\u001b[0;32m/usr/lib/python3.9/importlib/__init__.py\u001b[0m in \u001b[0;36mimport_module\u001b[0;34m(name, package)\u001b[0m\n\u001b[1;32m    125\u001b[0m                 \u001b[0;32mbreak\u001b[0m\u001b[0;34m\u001b[0m\u001b[0;34m\u001b[0m\u001b[0m\n\u001b[1;32m    126\u001b[0m             \u001b[0mlevel\u001b[0m \u001b[0;34m+=\u001b[0m \u001b[0;36m1\u001b[0m\u001b[0;34m\u001b[0m\u001b[0;34m\u001b[0m\u001b[0m\n\u001b[0;32m--> 127\u001b[0;31m     \u001b[0;32mreturn\u001b[0m \u001b[0m_bootstrap\u001b[0m\u001b[0;34m.\u001b[0m\u001b[0m_gcd_import\u001b[0m\u001b[0;34m(\u001b[0m\u001b[0mname\u001b[0m\u001b[0;34m[\u001b[0m\u001b[0mlevel\u001b[0m\u001b[0;34m:\u001b[0m\u001b[0;34m]\u001b[0m\u001b[0;34m,\u001b[0m \u001b[0mpackage\u001b[0m\u001b[0;34m,\u001b[0m \u001b[0mlevel\u001b[0m\u001b[0;34m)\u001b[0m\u001b[0;34m\u001b[0m\u001b[0;34m\u001b[0m\u001b[0m\n\u001b[0m\u001b[1;32m    128\u001b[0m \u001b[0;34m\u001b[0m\u001b[0m\n\u001b[1;32m    129\u001b[0m \u001b[0;34m\u001b[0m\u001b[0m\n",
            "\u001b[0;32m/usr/local/lib/python3.9/dist-packages/scipy/integrate/__init__.py\u001b[0m in \u001b[0;36m<module>\u001b[0;34m\u001b[0m\n\u001b[1;32m     93\u001b[0m \u001b[0;32mfrom\u001b[0m \u001b[0;34m.\u001b[0m\u001b[0m_quadpack_py\u001b[0m \u001b[0;32mimport\u001b[0m \u001b[0;34m*\u001b[0m\u001b[0;34m\u001b[0m\u001b[0;34m\u001b[0m\u001b[0m\n\u001b[1;32m     94\u001b[0m \u001b[0;32mfrom\u001b[0m \u001b[0;34m.\u001b[0m\u001b[0m_ode\u001b[0m \u001b[0;32mimport\u001b[0m \u001b[0;34m*\u001b[0m\u001b[0;34m\u001b[0m\u001b[0;34m\u001b[0m\u001b[0m\n\u001b[0;32m---> 95\u001b[0;31m \u001b[0;32mfrom\u001b[0m \u001b[0;34m.\u001b[0m\u001b[0m_bvp\u001b[0m \u001b[0;32mimport\u001b[0m \u001b[0msolve_bvp\u001b[0m\u001b[0;34m\u001b[0m\u001b[0;34m\u001b[0m\u001b[0m\n\u001b[0m\u001b[1;32m     96\u001b[0m from ._ivp import (solve_ivp, OdeSolution, DenseOutput,\n\u001b[1;32m     97\u001b[0m                    OdeSolver, RK23, RK45, DOP853, Radau, BDF, LSODA)\n",
            "\u001b[0;32m/usr/lib/python3.9/importlib/_bootstrap.py\u001b[0m in \u001b[0;36m_find_and_load\u001b[0;34m(name, import_)\u001b[0m\n",
            "\u001b[0;32m/usr/lib/python3.9/importlib/_bootstrap.py\u001b[0m in \u001b[0;36m_find_and_load_unlocked\u001b[0;34m(name, import_)\u001b[0m\n",
            "\u001b[0;32m/usr/lib/python3.9/importlib/_bootstrap.py\u001b[0m in \u001b[0;36m_load_unlocked\u001b[0;34m(spec)\u001b[0m\n",
            "\u001b[0;32m/usr/lib/python3.9/importlib/_bootstrap_external.py\u001b[0m in \u001b[0;36mexec_module\u001b[0;34m(self, module)\u001b[0m\n",
            "\u001b[0;32m/usr/lib/python3.9/importlib/_bootstrap_external.py\u001b[0m in \u001b[0;36mget_code\u001b[0;34m(self, fullname)\u001b[0m\n",
            "\u001b[0;32m/usr/lib/python3.9/importlib/_bootstrap_external.py\u001b[0m in \u001b[0;36mget_data\u001b[0;34m(self, path)\u001b[0m\n",
            "\u001b[0;31mKeyboardInterrupt\u001b[0m: "
          ]
        }
      ],
      "source": [
        "from scipy import signal\n",
        "from scipy import misc\n",
        "import numpy as np\n",
        "import matplotlib.pyplot as mtb\n",
        "import numpy, scipy.sparse\n",
        "\n",
        "\n",
        "from PIL import Image\n",
        "\n",
        "im = Image.open('/content/The-famous-Lena-image-often-used-as-an-example-in-image-processing.png')\n",
        "RGB = im.convert('L')\n",
        "С = np.array(RGB)\n",
        "\n",
        "P_r = np.random.normal(0, 1, size=(512, 512))\n",
        "\n",
        "shift = np.roll(P_r, 501, axis=0)\n",
        "shift = np.roll(P_r, 501, axis=1)\n",
        "\n",
        "\n",
        "W_r = P_r - shift\n",
        "\n",
        "g = np.array([[0,1,0],[1,-4,1],[0,1,0]])\n",
        "\n",
        "betta = signal.convolve2d(С[:,:],g, mode = 'full')\n",
        "\n",
        "\n",
        "for i in range(512):\n",
        "  for j in range(512):\n",
        "    С[i,j]  += betta[i,j]*W_r[i%512,j%512]\n",
        "\n",
        "\n",
        "img1 = Image.fromarray(С)\n",
        "img1 = img1.convert('L')\n",
        "img1.save('С.png')\n"
      ]
    },
    {
      "cell_type": "code",
      "execution_count": null,
      "metadata": {
        "colab": {
          "base_uri": "https://localhost:8080/"
        },
        "id": "xplIZPbYujXa",
        "outputId": "9c4d7562-c564-4f84-f97b-0707b226a3b7"
      },
      "outputs": [
        {
          "output_type": "stream",
          "name": "stdout",
          "text": [
            "(0, 0) (0, 501)\n"
          ]
        }
      ],
      "source": [
        "im1 = Image.open('/content/С.png')\n",
        "width, height = im.size\n",
        "\n",
        "RGB1 = im1.convert('L')\n",
        "array1 = np.array(RGB1)\n",
        "\n",
        "w = np.random.normal(0, 1, size=(512, 512))\n",
        "for m1 in range(512):\n",
        "    for m2 in range(512):\n",
        "      for i in range(512//512):\n",
        "        for j in range(512//512):\n",
        "          w[m1,m2] = array1[i*512+m1,j*512+m2]\n",
        "          \n",
        "bbb = np.fft.ifft2(np.fft.fft2(W_r)*np.conj(np.fft.fft2(P_r)))\n",
        "print(np.unravel_index(np.argmax(bbb, axis=None), bbb.shape) , np.unravel_index(np.argmin(bbb, axis=None), bbb.shape))\n"
      ]
    },
    {
      "cell_type": "code",
      "source": [
        "from scipy import signal\n",
        "from scipy import misc\n",
        "import numpy as np\n",
        "import matplotlib.pyplot as mtb\n",
        "import numpy, scipy.sparse\n",
        "\n",
        "P_r = np.random.normal(0, 1, size=(360, 360))\n",
        "g = np.array([[0,1,0],[1,-4,1],[0,1,0]])\n",
        "shift = np.roll(P_r, 85, axis=0)\n",
        "shift = np.roll(shift, 85, axis=1)\n",
        "W_r = P_r - shift\n",
        "L = np.array([[-1,-1,-1],[-1,8,-1],[-1,-1,-1]])\n",
        "lam = L/9"
      ],
      "metadata": {
        "id": "RVgTBR7awJVM"
      },
      "execution_count": 6,
      "outputs": []
    },
    {
      "cell_type": "code",
      "source": [
        "str1 = \"colab.research.google.com\"\n",
        "a = [get_key(d, i) for i in str1]\n",
        "a.append(\"1\")\n",
        "print(a[4])"
      ],
      "metadata": {
        "colab": {
          "base_uri": "https://localhost:8080/"
        },
        "id": "1lLK6K-ereFD",
        "outputId": "959a71d1-38e3-40cd-c906-b017de99dc56"
      },
      "execution_count": 203,
      "outputs": [
        {
          "output_type": "stream",
          "name": "stdout",
          "text": [
            "21\n"
          ]
        }
      ]
    },
    {
      "cell_type": "code",
      "source": [
        "import cv2\n",
        "import os\n",
        "\n",
        "def video_to_frames_with_stego(video, path_output_dir,num):\n",
        "    # extract frames from a video and save to directory as 'x.png' where \n",
        "    # x is the frame index\n",
        "    vidcap = cv2.VideoCapture(video)\n",
        "    count = 0\n",
        "    num1 = 0\n",
        "    counter_all = 0\n",
        "    while vidcap.isOpened():\n",
        "          success, image = vidcap.read()\n",
        "          if success:\n",
        "              gray = cv2.cvtColor(image, cv2.COLOR_BGR2GRAY)\n",
        "              betta = signal.convolve2d(gray[:,:],g, mode = 'same')\n",
        "              PicConv = signal.convolve2d(gray, lam, 'same')\n",
        "\n",
        "              if counter_all < len(str1) :\n",
        "                if num1 < 3:\n",
        "                  shift = np.roll(P_r, a[counter_all], axis=0)\n",
        "                  shift = np.roll(shift, a[counter_all], axis=1)\n",
        "                  W_r = P_r - shift\n",
        "                  print(count,\"------\",counter_all)\n",
        "                else:\n",
        "                  num1 = 0\n",
        "                  counter_all = counter_all + 1\n",
        "                  print(count,\"------\",counter_all)\n",
        "                  shift = np.roll(P_r, a[counter_all], axis=0)\n",
        "                  shift = np.roll(shift, a[counter_all], axis=1)\n",
        "                  W_r = P_r - shift\n",
        "                  \n",
        "                  \n",
        "\n",
        "              for i in range(360):\n",
        "                for j in range(360):\n",
        "                  gray[i,j]  += PicConv[i,j]*betta[i,j]*W_r[i%360,j%360]\n",
        "              cv2.imwrite(os.path.join(path_output_dir, '%d.png') % count, gray)\n",
        "              count += 1\n",
        "              num1 += 1\n",
        "          else:\n",
        "              break\n",
        "    cv2.destroyAllWindows()\n",
        "    vidcap.release()\n",
        "\n",
        "video_to_frames_with_stego('/content/VID.mp4', '/content/img',45)"
      ],
      "metadata": {
        "id": "HRI4C6x9tlQV",
        "colab": {
          "base_uri": "https://localhost:8080/",
          "height": 1000
        },
        "outputId": "8e79e9dc-a9b6-401d-8a81-28f15e324449"
      },
      "execution_count": 207,
      "outputs": [
        {
          "output_type": "stream",
          "name": "stdout",
          "text": [
            "0 ------ 0\n",
            "1 ------ 0\n",
            "2 ------ 0\n",
            "3 ------ 1\n",
            "4 ------ 1\n",
            "5 ------ 1\n",
            "6 ------ 2\n",
            "7 ------ 2\n",
            "8 ------ 2\n",
            "9 ------ 3\n",
            "10 ------ 3\n",
            "11 ------ 3\n",
            "12 ------ 4\n",
            "13 ------ 4\n",
            "14 ------ 4\n",
            "15 ------ 5\n",
            "16 ------ 5\n",
            "17 ------ 5\n",
            "18 ------ 6\n",
            "19 ------ 6\n",
            "20 ------ 6\n",
            "21 ------ 7\n",
            "22 ------ 7\n",
            "23 ------ 7\n",
            "24 ------ 8\n",
            "25 ------ 8\n",
            "26 ------ 8\n",
            "27 ------ 9\n",
            "28 ------ 9\n",
            "29 ------ 9\n",
            "30 ------ 10\n",
            "31 ------ 10\n",
            "32 ------ 10\n",
            "33 ------ 11\n",
            "34 ------ 11\n",
            "35 ------ 11\n",
            "36 ------ 12\n",
            "37 ------ 12\n",
            "38 ------ 12\n",
            "39 ------ 13\n",
            "40 ------ 13\n",
            "41 ------ 13\n",
            "42 ------ 14\n",
            "43 ------ 14\n",
            "44 ------ 14\n",
            "45 ------ 15\n",
            "46 ------ 15\n",
            "47 ------ 15\n",
            "48 ------ 16\n",
            "49 ------ 16\n",
            "50 ------ 16\n",
            "51 ------ 17\n",
            "52 ------ 17\n",
            "53 ------ 17\n",
            "54 ------ 18\n",
            "55 ------ 18\n",
            "56 ------ 18\n",
            "57 ------ 19\n",
            "58 ------ 19\n",
            "59 ------ 19\n",
            "60 ------ 20\n",
            "61 ------ 20\n",
            "62 ------ 20\n",
            "63 ------ 21\n",
            "64 ------ 21\n",
            "65 ------ 21\n",
            "66 ------ 22\n",
            "67 ------ 22\n",
            "68 ------ 22\n",
            "69 ------ 23\n",
            "70 ------ 23\n",
            "71 ------ 23\n",
            "72 ------ 24\n",
            "73 ------ 24\n",
            "74 ------ 24\n",
            "75 ------ 25\n"
          ]
        },
        {
          "output_type": "error",
          "ename": "TypeError",
          "evalue": "ignored",
          "traceback": [
            "\u001b[0;31m---------------------------------------------------------------------------\u001b[0m",
            "\u001b[0;31mTypeError\u001b[0m                                 Traceback (most recent call last)",
            "\u001b[0;32m<ipython-input-207-397c0eb38f72>\u001b[0m in \u001b[0;36m<cell line: 45>\u001b[0;34m()\u001b[0m\n\u001b[1;32m     43\u001b[0m     \u001b[0mvidcap\u001b[0m\u001b[0;34m.\u001b[0m\u001b[0mrelease\u001b[0m\u001b[0;34m(\u001b[0m\u001b[0;34m)\u001b[0m\u001b[0;34m\u001b[0m\u001b[0;34m\u001b[0m\u001b[0m\n\u001b[1;32m     44\u001b[0m \u001b[0;34m\u001b[0m\u001b[0m\n\u001b[0;32m---> 45\u001b[0;31m \u001b[0mvideo_to_frames_with_stego\u001b[0m\u001b[0;34m(\u001b[0m\u001b[0;34m'/content/VID.mp4'\u001b[0m\u001b[0;34m,\u001b[0m \u001b[0;34m'/content/img'\u001b[0m\u001b[0;34m,\u001b[0m\u001b[0;36m45\u001b[0m\u001b[0;34m)\u001b[0m\u001b[0;34m\u001b[0m\u001b[0;34m\u001b[0m\u001b[0m\n\u001b[0m",
            "\u001b[0;32m<ipython-input-207-397c0eb38f72>\u001b[0m in \u001b[0;36mvideo_to_frames_with_stego\u001b[0;34m(video, path_output_dir, num)\u001b[0m\n\u001b[1;32m     26\u001b[0m                   \u001b[0mcounter_all\u001b[0m \u001b[0;34m=\u001b[0m \u001b[0mcounter_all\u001b[0m \u001b[0;34m+\u001b[0m \u001b[0;36m1\u001b[0m\u001b[0;34m\u001b[0m\u001b[0;34m\u001b[0m\u001b[0m\n\u001b[1;32m     27\u001b[0m                   \u001b[0mprint\u001b[0m\u001b[0;34m(\u001b[0m\u001b[0mcount\u001b[0m\u001b[0;34m,\u001b[0m\u001b[0;34m\"------\"\u001b[0m\u001b[0;34m,\u001b[0m\u001b[0mcounter_all\u001b[0m\u001b[0;34m)\u001b[0m\u001b[0;34m\u001b[0m\u001b[0;34m\u001b[0m\u001b[0m\n\u001b[0;32m---> 28\u001b[0;31m                   \u001b[0mshift\u001b[0m \u001b[0;34m=\u001b[0m \u001b[0mnp\u001b[0m\u001b[0;34m.\u001b[0m\u001b[0mroll\u001b[0m\u001b[0;34m(\u001b[0m\u001b[0mP_r\u001b[0m\u001b[0;34m,\u001b[0m \u001b[0ma\u001b[0m\u001b[0;34m[\u001b[0m\u001b[0mcounter_all\u001b[0m\u001b[0;34m]\u001b[0m\u001b[0;34m,\u001b[0m \u001b[0maxis\u001b[0m\u001b[0;34m=\u001b[0m\u001b[0;36m0\u001b[0m\u001b[0;34m)\u001b[0m\u001b[0;34m\u001b[0m\u001b[0;34m\u001b[0m\u001b[0m\n\u001b[0m\u001b[1;32m     29\u001b[0m                   \u001b[0mshift\u001b[0m \u001b[0;34m=\u001b[0m \u001b[0mnp\u001b[0m\u001b[0;34m.\u001b[0m\u001b[0mroll\u001b[0m\u001b[0;34m(\u001b[0m\u001b[0mshift\u001b[0m\u001b[0;34m,\u001b[0m \u001b[0ma\u001b[0m\u001b[0;34m[\u001b[0m\u001b[0mcounter_all\u001b[0m\u001b[0;34m]\u001b[0m\u001b[0;34m,\u001b[0m \u001b[0maxis\u001b[0m\u001b[0;34m=\u001b[0m\u001b[0;36m1\u001b[0m\u001b[0;34m)\u001b[0m\u001b[0;34m\u001b[0m\u001b[0;34m\u001b[0m\u001b[0m\n\u001b[1;32m     30\u001b[0m                   \u001b[0mW_r\u001b[0m \u001b[0;34m=\u001b[0m \u001b[0mP_r\u001b[0m \u001b[0;34m-\u001b[0m \u001b[0mshift\u001b[0m\u001b[0;34m\u001b[0m\u001b[0;34m\u001b[0m\u001b[0m\n",
            "\u001b[0;32m/usr/local/lib/python3.9/dist-packages/numpy/core/overrides.py\u001b[0m in \u001b[0;36mroll\u001b[0;34m(*args, **kwargs)\u001b[0m\n",
            "\u001b[0;32m/usr/local/lib/python3.9/dist-packages/numpy/core/numeric.py\u001b[0m in \u001b[0;36mroll\u001b[0;34m(a, shift, axis)\u001b[0m\n\u001b[1;32m   1227\u001b[0m         \u001b[0mshifts\u001b[0m \u001b[0;34m=\u001b[0m \u001b[0;34m{\u001b[0m\u001b[0max\u001b[0m\u001b[0;34m:\u001b[0m \u001b[0;36m0\u001b[0m \u001b[0;32mfor\u001b[0m \u001b[0max\u001b[0m \u001b[0;32min\u001b[0m \u001b[0mrange\u001b[0m\u001b[0;34m(\u001b[0m\u001b[0ma\u001b[0m\u001b[0;34m.\u001b[0m\u001b[0mndim\u001b[0m\u001b[0;34m)\u001b[0m\u001b[0;34m}\u001b[0m\u001b[0;34m\u001b[0m\u001b[0;34m\u001b[0m\u001b[0m\n\u001b[1;32m   1228\u001b[0m         \u001b[0;32mfor\u001b[0m \u001b[0msh\u001b[0m\u001b[0;34m,\u001b[0m \u001b[0max\u001b[0m \u001b[0;32min\u001b[0m \u001b[0mbroadcasted\u001b[0m\u001b[0;34m:\u001b[0m\u001b[0;34m\u001b[0m\u001b[0;34m\u001b[0m\u001b[0m\n\u001b[0;32m-> 1229\u001b[0;31m             \u001b[0mshifts\u001b[0m\u001b[0;34m[\u001b[0m\u001b[0max\u001b[0m\u001b[0;34m]\u001b[0m \u001b[0;34m+=\u001b[0m \u001b[0msh\u001b[0m\u001b[0;34m\u001b[0m\u001b[0;34m\u001b[0m\u001b[0m\n\u001b[0m\u001b[1;32m   1230\u001b[0m \u001b[0;34m\u001b[0m\u001b[0m\n\u001b[1;32m   1231\u001b[0m         \u001b[0mrolls\u001b[0m \u001b[0;34m=\u001b[0m \u001b[0;34m[\u001b[0m\u001b[0;34m(\u001b[0m\u001b[0;34m(\u001b[0m\u001b[0mslice\u001b[0m\u001b[0;34m(\u001b[0m\u001b[0;32mNone\u001b[0m\u001b[0;34m)\u001b[0m\u001b[0;34m,\u001b[0m \u001b[0mslice\u001b[0m\u001b[0;34m(\u001b[0m\u001b[0;32mNone\u001b[0m\u001b[0;34m)\u001b[0m\u001b[0;34m)\u001b[0m\u001b[0;34m,\u001b[0m\u001b[0;34m)\u001b[0m\u001b[0;34m]\u001b[0m \u001b[0;34m*\u001b[0m \u001b[0ma\u001b[0m\u001b[0;34m.\u001b[0m\u001b[0mndim\u001b[0m\u001b[0;34m\u001b[0m\u001b[0;34m\u001b[0m\u001b[0m\n",
            "\u001b[0;31mTypeError\u001b[0m: unsupported operand type(s) for +=: 'int' and 'numpy.str_'"
          ]
        }
      ]
    },
    {
      "cell_type": "code",
      "source": [
        "from PIL import Image\n",
        "\n",
        "\n",
        "print(res)\n",
        "\n",
        "w = np.random.normal(0, 1, size=(360, 360))\n",
        "counter = 0\n",
        "if counter < len(str1) :\n",
        "  if counter == 0 :\n",
        "    for i in range(3):\n",
        "      s = '/content/img/' + \"% s\" % i + '.png'\n",
        "      im1 = Image.open(s)\n",
        "  else:\n",
        "    for i in range(counter*3 - 3, counter*3):\n",
        "      s = '/content/img/' + \"% s\" % i + '.png'\n",
        "      print(s)\n",
        "      im1 = Image.open(s)\n",
        "\n",
        "    RGB1 = im1.convert('L')\n",
        "    array1 = np.array(RGB1)\n",
        "\n",
        "    for m1 in range(360):\n",
        "        for m2 in range(360):\n",
        "          for i in range(360//360):\n",
        "            for j in range(360//360):\n",
        "              w[m1,m2] += array1[m1,m2]\n",
        "              \n",
        "  bbb = np.fft.ifft2(np.fft.fft2(w)*np.conj(np.fft.fft2(P_r)))\n",
        "  res[counter] = d.get(np.unravel_index(np.argmax(bbb, axis=None), bbb.shape)[0])\n",
        "  counter = counter + 1"
      ],
      "metadata": {
        "colab": {
          "base_uri": "https://localhost:8080/"
        },
        "id": "AyfBlogf2qzB",
        "outputId": "bc16e7d9-bbe1-463c-b3e5-6978df515f34"
      },
      "execution_count": 185,
      "outputs": [
        {
          "output_type": "stream",
          "name": "stdout",
          "text": [
            "[None, '0', '7', '3', '3', '3', 1, 1, 1]\n"
          ]
        }
      ]
    },
    {
      "cell_type": "code",
      "source": [
        "from PIL import Image\n",
        "\n",
        "res = [1 for i in range(len(str1))]\n",
        "\n",
        "print(len(str1))\n",
        "\n",
        "w = np.random.normal(0, 1, size=(360, 360))\n",
        "counter = 0\n",
        "for counter in range(len(str1)):\n",
        "  if counter == 0 :\n",
        "    for i in range(3):\n",
        "      s = '/content/img/' + \"% s\" % i + '.png'\n",
        "      print(s)\n",
        "      im1 = Image.open(s)\n",
        "      RGB1 = im1.convert('L')\n",
        "      array1 = np.array(RGB1)\n",
        "\n",
        "      for m1 in range(360):\n",
        "        for m2 in range(360):\n",
        "          for i in range(360//360):\n",
        "            for j in range(360//360):\n",
        "              w[m1,m2] += array1[m1,m2]\n",
        "  else:\n",
        "    for i in range(counter*3, counter*3+3):\n",
        "      s = '/content/img/' + \"% s\" % i + '.png'\n",
        "      print(s)\n",
        "      im1 = Image.open(s)\n",
        "      RGB1 = im1.convert('L')\n",
        "      array1 = np.array(RGB1)\n",
        "      \n",
        "      for m1 in range(360):\n",
        "        for m2 in range(360):\n",
        "          for i in range(360//360):\n",
        "            for j in range(360//360):\n",
        "              w[m1,m2] += array1[m1,m2]\n",
        "              \n",
        "  bbb = np.fft.ifft2(np.fft.fft2(w)*np.conj(np.fft.fft2(P_r)))\n",
        "  res[counter] = d.get(np.unravel_index(np.argmax(bbb, axis=None), bbb.shape)[0])\n",
        "  print(\"---------------------\")\n",
        "  print(np.unravel_index(np.argmax(bbb, axis=None), bbb.shape)[0])\n",
        "  print(\"---------------------\")\n",
        "  "
      ],
      "metadata": {
        "colab": {
          "base_uri": "https://localhost:8080/"
        },
        "id": "i0ZrTl9rswqs",
        "outputId": "289b1415-b13d-4565-9a87-ff0ba0b2a638"
      },
      "execution_count": 208,
      "outputs": [
        {
          "output_type": "stream",
          "name": "stdout",
          "text": [
            "25\n",
            "/content/img/0.png\n",
            "/content/img/1.png\n",
            "/content/img/2.png\n",
            "---------------------\n",
            "22\n",
            "---------------------\n",
            "/content/img/3.png\n",
            "/content/img/4.png\n",
            "/content/img/5.png\n",
            "---------------------\n",
            "33\n",
            "---------------------\n",
            "/content/img/6.png\n",
            "/content/img/7.png\n",
            "/content/img/8.png\n",
            "---------------------\n",
            "30\n",
            "---------------------\n",
            "/content/img/9.png\n",
            "/content/img/10.png\n",
            "/content/img/11.png\n",
            "---------------------\n",
            "30\n",
            "---------------------\n",
            "/content/img/12.png\n",
            "/content/img/13.png\n",
            "/content/img/14.png\n",
            "---------------------\n",
            "30\n",
            "---------------------\n",
            "/content/img/15.png\n",
            "/content/img/16.png\n",
            "/content/img/17.png\n",
            "---------------------\n",
            "47\n",
            "---------------------\n",
            "/content/img/18.png\n",
            "/content/img/19.png\n",
            "/content/img/20.png\n",
            "---------------------\n",
            "47\n",
            "---------------------\n",
            "/content/img/21.png\n",
            "/content/img/22.png\n",
            "/content/img/23.png\n",
            "---------------------\n",
            "24\n",
            "---------------------\n",
            "/content/img/24.png\n",
            "/content/img/25.png\n",
            "/content/img/26.png\n",
            "---------------------\n",
            "306\n",
            "---------------------\n",
            "/content/img/27.png\n",
            "/content/img/28.png\n",
            "/content/img/29.png\n",
            "---------------------\n",
            "24\n",
            "---------------------\n",
            "/content/img/30.png\n",
            "/content/img/31.png\n",
            "/content/img/32.png\n",
            "---------------------\n",
            "24\n",
            "---------------------\n",
            "/content/img/33.png\n",
            "/content/img/34.png\n",
            "/content/img/35.png\n",
            "---------------------\n",
            "24\n",
            "---------------------\n",
            "/content/img/36.png\n",
            "/content/img/37.png\n",
            "/content/img/38.png\n",
            "---------------------\n",
            "24\n",
            "---------------------\n",
            "/content/img/39.png\n",
            "/content/img/40.png\n",
            "/content/img/41.png\n",
            "---------------------\n",
            "24\n",
            "---------------------\n",
            "/content/img/42.png\n",
            "/content/img/43.png\n",
            "/content/img/44.png\n",
            "---------------------\n",
            "24\n",
            "---------------------\n",
            "/content/img/45.png\n",
            "/content/img/46.png\n",
            "/content/img/47.png\n",
            "---------------------\n",
            "24\n",
            "---------------------\n",
            "/content/img/48.png\n",
            "/content/img/49.png\n",
            "/content/img/50.png\n",
            "---------------------\n",
            "24\n",
            "---------------------\n",
            "/content/img/51.png\n",
            "/content/img/52.png\n",
            "/content/img/53.png\n",
            "---------------------\n",
            "33\n",
            "---------------------\n",
            "/content/img/54.png\n",
            "/content/img/55.png\n",
            "/content/img/56.png\n",
            "---------------------\n",
            "33\n",
            "---------------------\n",
            "/content/img/57.png\n",
            "/content/img/58.png\n",
            "/content/img/59.png\n",
            "---------------------\n",
            "33\n",
            "---------------------\n",
            "/content/img/60.png\n",
            "/content/img/61.png\n",
            "/content/img/62.png\n",
            "---------------------\n",
            "24\n",
            "---------------------\n",
            "/content/img/63.png\n",
            "/content/img/64.png\n",
            "/content/img/65.png\n",
            "---------------------\n",
            "24\n",
            "---------------------\n",
            "/content/img/66.png\n",
            "/content/img/67.png\n",
            "/content/img/68.png\n",
            "---------------------\n",
            "24\n",
            "---------------------\n",
            "/content/img/69.png\n",
            "/content/img/70.png\n",
            "/content/img/71.png\n",
            "---------------------\n",
            "33\n",
            "---------------------\n",
            "/content/img/72.png\n",
            "/content/img/73.png\n",
            "/content/img/74.png\n",
            "---------------------\n",
            "33\n",
            "---------------------\n"
          ]
        }
      ]
    },
    {
      "cell_type": "code",
      "source": [
        "print(res)"
      ],
      "metadata": {
        "colab": {
          "base_uri": "https://localhost:8080/"
        },
        "id": "uVFm2v8G0wTl",
        "outputId": "5f6bc21c-9d8f-4f8a-c332-28a0b8568a19"
      },
      "execution_count": 209,
      "outputs": [
        {
          "output_type": "stream",
          "name": "stdout",
          "text": [
            "['c', 'o', 'l', 'l', 'l', '.', '.', 'e', None, 'e', 'e', 'e', 'e', 'e', 'e', 'e', 'e', 'o', 'o', 'o', 'e', 'e', 'e', 'o', 'o']\n"
          ]
        }
      ]
    },
    {
      "cell_type": "code",
      "source": [
        "def get_key(d, value):\n",
        "    for k, v in d.items():\n",
        "        if v == value:\n",
        "            return k\n",
        "\n",
        "\n",
        "\n",
        "d = {20 :'a',\n",
        "     21 : 'b',\n",
        "     22 : 'c',\n",
        "     23 : 's',\n",
        "     24 : 'e',\n",
        "     25 : 'f',\n",
        "     26 : 'g',\n",
        "     27 : 'h',\n",
        "     28 : 'i',\n",
        "     29 : 'k',\n",
        "     30 : 'l',\n",
        "     31 : 'm',\n",
        "     32 : 'n',\n",
        "     33 : 'o',\n",
        "     34 : 'p',\n",
        "     35 : 'q',\n",
        "     36 : 'r',\n",
        "     37 : 's',\n",
        "     38 : 't',\n",
        "     39 : 'u',\n",
        "     40 : 'v',\n",
        "     41 : 'w',\n",
        "     42 : 'x',\n",
        "     43 : 'y',\n",
        "     44 : 'z',\n",
        "     45 : ':',\n",
        "     46 : '/',\n",
        "     47 : '.',\n",
        "     10 : '0',\n",
        "     11 : '1',\n",
        "     12 : '2',\n",
        "     13 : '3',\n",
        "     14 : '4',\n",
        "     15 : '5',\n",
        "     16 : '6',\n",
        "     17 : '7',\n",
        "     18 : '8',\n",
        "     19 : '9',\n",
        "     }\n",
        "\n",
        "\n",
        "for i in \"https://vk.com/\":\n",
        "  print(get_key(d, i))\n",
        "\n",
        "print(d.get(11))"
      ],
      "metadata": {
        "colab": {
          "base_uri": "https://localhost:8080/"
        },
        "id": "GQdoVkLhkOW5",
        "outputId": "0d602ab5-b86e-4569-85a1-ab504138b44e"
      },
      "execution_count": 118,
      "outputs": [
        {
          "output_type": "stream",
          "name": "stdout",
          "text": [
            "27\n",
            "38\n",
            "38\n",
            "34\n",
            "23\n",
            "45\n",
            "46\n",
            "46\n",
            "40\n",
            "29\n",
            "47\n",
            "22\n",
            "33\n",
            "31\n",
            "46\n",
            "1\n"
          ]
        }
      ]
    },
    {
      "cell_type": "code",
      "source": [
        "\"% s\" % 10"
      ],
      "metadata": {
        "colab": {
          "base_uri": "https://localhost:8080/",
          "height": 35
        },
        "id": "qp82gxDskQwp",
        "outputId": "ac2ab227-f620-4211-c1c3-65199796acb8"
      },
      "execution_count": 94,
      "outputs": [
        {
          "output_type": "execute_result",
          "data": {
            "text/plain": [
              "'10'"
            ],
            "application/vnd.google.colaboratory.intrinsic+json": {
              "type": "string"
            }
          },
          "metadata": {},
          "execution_count": 94
        }
      ]
    },
    {
      "cell_type": "code",
      "source": [],
      "metadata": {
        "id": "AnSx64w7xoam"
      },
      "execution_count": null,
      "outputs": []
    }
  ],
  "metadata": {
    "colab": {
      "provenance": [],
      "authorship_tag": "ABX9TyMnXmIE4cixOgiM/Zsi8xkb",
      "include_colab_link": true
    },
    "kernelspec": {
      "display_name": "Python 3",
      "name": "python3"
    },
    "language_info": {
      "name": "python"
    }
  },
  "nbformat": 4,
  "nbformat_minor": 0
}